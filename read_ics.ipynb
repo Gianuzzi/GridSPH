{
 "cells": [
  {
   "cell_type": "code",
   "execution_count": 1,
   "id": "c9873094-38bc-408c-9dc3-e4aaffe9b7d7",
   "metadata": {},
   "outputs": [],
   "source": [
    "import numpy as np\n",
    "import h5py\n",
    "import copy"
   ]
  },
  {
   "cell_type": "code",
   "execution_count": 2,
   "id": "c3080326-bae6-4e04-978e-b216af6b366a",
   "metadata": {},
   "outputs": [],
   "source": [
    "class simu:\n",
    "    def __init__(self, path):\n",
    "        with h5py.File(path, \"r\") as snap:\n",
    "            self.header = dict(snap[\"Header\"].attrs.items())\n",
    "            gas = snap[\"PartType0\"]\n",
    "            print(gas.keys())\n",
    "            self.N = self.header[\"NumPart_Total\"][0]\n",
    "            self.pos = gas[\"Coordinates\"][:]\n",
    "            self.vel = gas[\"Velocities\"][:]\n",
    "            self.mass = gas[\"Masses\"][:]\n",
    "            self.hsml = gas[\"SmoothingLength\"][:]\n",
    "            self.dens = gas[\"Density\"][:]\n",
    "            if \"Potential\" in gas.keys():\n",
    "                self.pot = gas[\"Potential\"][:]\n",
    "            if \"InternalEnergy\" in gas.keys():\n",
    "                self.ene = gas[\"InternalEnergy\"][:]\n",
    "        self.size = self.pos.shape[0]\n",
    "        self.radii = np.linalg.norm(self.pos, axis=1)\n",
    "        \n",
    "    def get_rnd(self, nran=1000):\n",
    "        rnd = np.random.randint(0, self.size, nran)\n",
    "        copia = copy.deepcopy(self)\n",
    "        copia.header = self.header.copy()\n",
    "        copia.pos = self.pos[rnd].copy()\n",
    "        copia.vel = self.vel[rnd].copy()\n",
    "        copia.mass = self.mass[rnd].copy()\n",
    "        copia.hsml = self.hsml[rnd].copy()\n",
    "        copia.dens = self.dens[rnd].copy()\n",
    "        copia.size = copia.pos.shape[0]\n",
    "        copia.radii = self.radii[rnd].copy()\n",
    "        return copia"
   ]
  },
  {
   "cell_type": "code",
   "execution_count": 3,
   "id": "e469fbb6-6236-449a-b325-6bb1d041a93e",
   "metadata": {},
   "outputs": [
    {
     "name": "stdout",
     "output_type": "stream",
     "text": [
      "<KeysViewHDF5 ['AGS-Softening', 'Acceleration', 'BH_Dist', 'Coordinates', 'Density', 'InternalEnergy', 'Masses', 'Metallicity', 'ParticleChildIDsNumber', 'ParticleIDGenerationNumber', 'ParticleIDs', 'Potential', 'Pressure', 'RateOfChangeOfInternalEnergy', 'SmoothingLength', 'SoundSpeed', 'StarFormationRate', 'Velocities', 'VelocityDivergence', 'Vorticity']>\n"
     ]
    }
   ],
   "source": [
    "# ics = simu(\"ics.hdf5\")\n",
    "# cld = simu(\"cloud.hdf5\")\n",
    "# cld = simu(\"g1.hdf5\")\n",
    "cld = simu(\"../turbulent-cloud/snapshot_000.hdf5\")\n",
    "# cld = simu(\"cloud_fix.hdf5\")"
   ]
  },
  {
   "cell_type": "raw",
   "id": "55db0069-a511-4fde-8298-69fc27f5655e",
   "metadata": {},
   "source": [
    "plt.figure(dpi=150)\n",
    "plt.plot(cld.radii[-1000:], cld.dens[-1000:], \",\")\n",
    "plt.plot(cld_fix.radii[-1000:], cld_fix.dens[-1000:], \",\")\n",
    "plt.plot(ics.radii[-1000:], ics.dens[-1000:], \",\")\n",
    "# plt.plot(ics.radii[-1000:], 1000 + ics.radii[-1000:]**-2, \"-\")\n",
    "# plt.semilogx()\n",
    "plt.show()"
   ]
  },
  {
   "cell_type": "code",
   "execution_count": 4,
   "id": "be842f26-f062-4e0a-b9dc-c2177dd95cbd",
   "metadata": {},
   "outputs": [],
   "source": [
    "# mass_rnd = cld.radii / cld.radii.max()\n",
    "# print(mass_rnd.sum())"
   ]
  },
  {
   "cell_type": "code",
   "execution_count": 5,
   "id": "67d086e8-96ac-4f01-8076-3cbc643dc5b9",
   "metadata": {},
   "outputs": [],
   "source": [
    "pos_d = np.asarray(cld.pos, dtype=\"<f8\").tobytes(\"F\")\n",
    "hsml_d = np.asarray(cld.hsml, dtype=\"<f8\").tobytes(\"F\")\n",
    "mass_d = np.asarray(cld.mass, dtype=\"<f8\").tobytes(\"F\")\n",
    "# mass_d = np.asarray(mass_rnd, dtype=\"<f8\").tobytes(\"F\")\n",
    "dens_d = np.asarray(cld.dens, dtype=\"<f8\").tobytes(\"F\")\n",
    "vel_d = np.asarray(cld.vel, dtype=\"<f8\").tobytes(\"F\")\n",
    "velx_d = np.asarray(cld.vel[:,0], dtype=\"<f8\").tobytes(\"F\")\n",
    "vely_d = np.asarray(cld.vel[:,1], dtype=\"<f8\").tobytes(\"F\")\n",
    "velz_d = np.asarray(cld.vel[:,2], dtype=\"<f8\").tobytes(\"F\")\n",
    "pot_d = np.asarray(cld.pot, dtype=\"<f8\").tobytes(\"F\")\n",
    "ene_d = np.asarray(cld.ene, dtype=\"<f8\").tobytes(\"F\")"
   ]
  },
  {
   "cell_type": "code",
   "execution_count": 11,
   "id": "3940d5b3-048a-4f96-abca-9b3fbd5603b3",
   "metadata": {},
   "outputs": [],
   "source": [
    "pos_d = np.asarray(cld.pos, dtype=\"<f4\").tobytes(\"F\")\n",
    "hsml_d = np.asarray(cld.hsml, dtype=\"<f4\").tobytes(\"F\")\n",
    "mass_d = np.asarray(cld.mass, dtype=\"<f4\").tobytes(\"F\")\n",
    "# mass_d = np.asarray(mass_rnd, dtype=\"<f8\").tobytes(\"F\")\n",
    "dens_d = np.asarray(cld.dens, dtype=\"<f4\").tobytes(\"F\")\n",
    "vel_d = np.asarray(cld.vel, dtype=\"<f4\").tobytes(\"F\")\n",
    "velx_d = np.asarray(cld.vel[:,0], dtype=\"<f4\").tobytes(\"F\")\n",
    "vely_d = np.asarray(cld.vel[:,1], dtype=\"<f4\").tobytes(\"F\")\n",
    "velz_d = np.asarray(cld.vel[:,2], dtype=\"<f4\").tobytes(\"F\")\n",
    "pot_d = np.asarray(cld.pot, dtype=\"<f4\").tobytes(\"F\")\n",
    "ene_d = np.asarray(cld.ene, dtype=\"<f4\").tobytes(\"F\")"
   ]
  },
  {
   "cell_type": "code",
   "execution_count": 6,
   "id": "2d1bd353-8263-4ccd-9387-d384d629a7cf",
   "metadata": {},
   "outputs": [],
   "source": [
    "with open(\"pos_d\", \"wb\") as f:\n",
    "    f.write(pos_d)\n",
    "with open(\"hsml_d\", \"wb\") as f:\n",
    "    f.write(hsml_d)\n",
    "with open(\"mass_d\", \"wb\") as f:\n",
    "    f.write(mass_d)\n",
    "with open(\"dens_d\", \"wb\") as f:\n",
    "    f.write(dens_d)\n",
    "with open(\"vel_d\", \"wb\") as f:\n",
    "    f.write(vel_d)\n",
    "with open(\"velx_d\", \"wb\") as f:\n",
    "    f.write(velx_d)\n",
    "with open(\"vely_d\", \"wb\") as f:\n",
    "    f.write(vely_d)\n",
    "with open(\"velz_d\", \"wb\") as f:\n",
    "    f.write(velz_d)\n",
    "with open(\"pot_d\", \"wb\") as f:\n",
    "    f.write(pot_d)\n",
    "with open(\"ene_d\", \"wb\") as f:\n",
    "    f.write(ene_d)"
   ]
  },
  {
   "cell_type": "code",
   "execution_count": null,
   "id": "094ff79d-2b8f-4053-8553-7e251c0c1faa",
   "metadata": {},
   "outputs": [],
   "source": []
  }
 ],
 "metadata": {
  "kernelspec": {
   "display_name": "Python 3.9.7 ('base')",
   "language": "python",
   "name": "python3"
  },
  "language_info": {
   "codemirror_mode": {
    "name": "ipython",
    "version": 3
   },
   "file_extension": ".py",
   "mimetype": "text/x-python",
   "name": "python",
   "nbconvert_exporter": "python",
   "pygments_lexer": "ipython3",
   "version": "3.9.7"
  },
  "vscode": {
   "interpreter": {
    "hash": "3de1caabb04762b6d2a1e3865859274530327e7ead5276ac6b50f26e3f1f33f4"
   }
  }
 },
 "nbformat": 4,
 "nbformat_minor": 5
}
